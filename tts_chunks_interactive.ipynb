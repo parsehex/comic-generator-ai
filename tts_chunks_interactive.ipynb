{
 "cells": [
  {
   "cell_type": "code",
   "execution_count": 1,
   "metadata": {},
   "outputs": [
    {
     "name": "stdout",
     "output_type": "stream",
     "text": [
      "Audio 0_text.mp3 created successfully in project_20241018_1_0\n",
      "Audio 1_title.mp3 created successfully in project_20241018_1_0\n",
      "Audio 2_text.mp3 created successfully in project_20241018_1_0\n"
     ]
    },
    {
     "name": "stderr",
     "output_type": "stream",
     "text": [
      "2024-10-18 14:43:57.101 python[88471:2045801] +[IMKClient subclass]: chose IMKClient_Legacy\n",
      "2024-10-18 14:43:57.101 python[88471:2045801] +[IMKInputSession subclass]: chose IMKInputSession_Legacy\n"
     ]
    }
   ],
   "source": [
    "import os\n",
    "import json\n",
    "import sys\n",
    "from PyQt5.QtWidgets import QApplication\n",
    "from src.chunk_manager_gui import ChunkManagerGUI\n",
    "from src.ai import elevenlabs\n",
    "from src.utils import saveB64Audio, chunkTextForTTS, create_project_folder\n",
    "from src.enums import ElevenLabsTTSModel\n",
    "\n",
    "# if not specified, will use default model from config/config.yaml\n",
    "tts_model = ElevenLabsTTSModel.Turbo_v25.value\n",
    "\n",
    "script_text = \"\"\"\"\"\"\n",
    "script_location = \"input-test.txt\"\n",
    "\n",
    "# maybe make a copy of this notebook for F5 TTS, then combine the 2 later\n",
    "\n",
    "def save_chunks(chunks, project_folder):\n",
    "\tchunks_name = os.path.join(project_folder, 'tts-chunks.json')\n",
    "\twith open(chunks_name, 'w') as f:\n",
    "\t\tf.write(json.dumps(chunks))\n",
    "\n",
    "\n",
    "def create_audio(script,\n",
    "\t\t\t\t audio_name='audio.mp3',\n",
    "\t\t\t\t project_folder=None,\n",
    "\t\t\t\t model=None):\n",
    "\t# TODO use request stitching to improve gaps\n",
    "\t# see https://elevenlabs.io/docs/api-reference/how-to-use-request-stitching\n",
    "\tif project_folder is None:\n",
    "\t\tproject_folder = create_project_folder()\n",
    "\n",
    "\taudio = elevenlabs.getSpeechB64(script, model)\n",
    "\taudio_path = os.path.join(project_folder, audio_name)\n",
    "\tsaveB64Audio(audio, audio_path)\n",
    "\n",
    "\tprint(f\"Audio {audio_name} created successfully in {project_folder}\")\n",
    "\treturn project_folder, audio_path\n",
    "\n",
    "\n",
    "input_exists = os.path.exists(script_location)\n",
    "if not script_text and not input_exists:\n",
    "\traise SystemExit(\"Please provide a script or a script location\")\n",
    "\n",
    "if not script_text and script_location:\n",
    "\twith open(script_location, 'r') as f:\n",
    "\t\tscript_text = f.read()\n",
    "\n",
    "# make the text chunks\n",
    "chunks = chunkTextForTTS(script_text)\n",
    "project_folder = create_project_folder(reuse=True)\n",
    "\n",
    "# save the chunks\n",
    "chunks_name = os.path.join(project_folder, 'tts-chunks.json')\n",
    "if not os.path.exists(chunks_name):\n",
    "\tprint(f\"Saving text chunks to {chunks_name}\")\n",
    "\tsave_chunks(chunks, project_folder)\n",
    "else:\n",
    "\t# compare with existing chunks\n",
    "\twith open(chunks_name, 'r') as f:\n",
    "\t\texisting_chunks = eval(f.read())\n",
    "\t\tprint('Comparing with existing text chunks')\n",
    "\t\tif existing_chunks != chunks:\n",
    "\t\t\tprint('Chunks have changed, updating')\n",
    "\t\t\tsave_chunks(chunks, project_folder)\n",
    "\n",
    "# generate the tts audio files\n",
    "skipped = 0\n",
    "for i, chunk in enumerate(chunks):\n",
    "\tchunk_type = chunk['type']\n",
    "\taudio_name = f'{i}_{chunk_type}.mp3'\n",
    "\tchunk['audio'] = audio_name\n",
    "\taudio_exists = os.path.exists(os.path.join(project_folder, audio_name))\n",
    "\n",
    "\tif audio_exists:\n",
    "\t\tskipped += 1\n",
    "\t\tcontinue\n",
    "\n",
    "\tcontent = chunk['content']\n",
    "\tcreate_audio(content, audio_name, project_folder, tts_model)\n",
    "\n",
    "save_chunks(chunks, project_folder)\n",
    "\n",
    "if skipped > 0:\n",
    "\tprint(f\"Skipped generating {skipped} audio files\")\n",
    "\n",
    "# open ui to review chunks\n",
    "app = QApplication(sys.argv)\n",
    "ex = ChunkManagerGUI(chunks, project_folder)\n",
    "ex.show()\n",
    "app.exec_()\n",
    "%gui qt"
   ]
  },
  {
   "cell_type": "code",
   "execution_count": 2,
   "metadata": {},
   "outputs": [],
   "source": [
    "# elevenlabs.getModels()"
   ]
  },
  {
   "cell_type": "code",
   "execution_count": 1,
   "metadata": {},
   "outputs": [
    {
     "name": "stderr",
     "output_type": "stream",
     "text": [
      "2024-10-18 17:57:31.445 python[93437:2159475] +[IMKClient subclass]: chose IMKClient_Legacy\n",
      "2024-10-18 17:57:31.445 python[93437:2159475] +[IMKInputSession subclass]: chose IMKInputSession_Legacy\n"
     ]
    }
   ],
   "source": [
    "# Standalone GUI:\n",
    "# use this cell if chunks are already saved and generated\n",
    "\n",
    "import os\n",
    "import sys\n",
    "from PyQt5.QtWidgets import QApplication\n",
    "from src.chunk_manager_gui import ChunkManagerGUI\n",
    "from src.utils import create_project_folder\n",
    "\n",
    "project_folder = create_project_folder(reuse=True)\n",
    "chunks_name = os.path.join(project_folder, 'tts-chunks.json')\n",
    "with open(chunks_name, 'r') as f:\n",
    "\tchunks = eval(f.read())\n",
    "\n",
    "app = QApplication(sys.argv)\n",
    "ex = ChunkManagerGUI(chunks, project_folder)\n",
    "ex.show()\n",
    "app.exec_()\n",
    "%gui qt"
   ]
  }
 ],
 "metadata": {
  "kernelspec": {
   "display_name": ".venv",
   "language": "python",
   "name": "python3"
  },
  "language_info": {
   "codemirror_mode": {
    "name": "ipython",
    "version": 3
   },
   "file_extension": ".py",
   "mimetype": "text/x-python",
   "name": "python",
   "nbconvert_exporter": "python",
   "pygments_lexer": "ipython3",
   "version": "3.10.15"
  }
 },
 "nbformat": 4,
 "nbformat_minor": 2
}
