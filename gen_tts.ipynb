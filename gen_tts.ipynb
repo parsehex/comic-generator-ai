{
 "cells": [
  {
   "cell_type": "markdown",
   "metadata": {},
   "source": [
    "Use this notebook to generate TTS and listen to the result in this notebook.\n",
    "\n",
    "Use `tts_model` to change to a different ElevenLabs model and use `tts_voice` to change to a different voice.\n",
    "\n",
    "You can use an `input_text` to supply a string directly in the notebook, or use a `input_file` to supply a path to a text file (e.g. `input.txt`).\n",
    "\n",
    "You can also optionally an `output_file` to save the generated audio to a file (e.g. `output.mp3`).\n",
    "\n",
    "Press `Run All` and the TTS audio will render at the bottom after a while."
   ]
  },
  {
   "cell_type": "code",
   "execution_count": null,
   "metadata": {},
   "outputs": [],
   "source": [
    "import os\n",
    "from src.ai import elevenlabs\n",
    "from src.utils import saveB64Audio, displayAudio, chunk_text, get_text_from_url\n",
    "from src.enums import ElevenLabsTTSModel, ElevenLabsTTSVoice\n",
    "from src.format_tts import format_tts_text\n",
    "\n",
    "# change the model and/or voice if desired\n",
    "# TODO support openai tts\n",
    "tts_model = ElevenLabsTTSModel.Multilingual_v2.value\n",
    "tts_voice = ElevenLabsTTSVoice.Brian.value # TODO add more voices to enum\n",
    "\n",
    "# choose 1 of the below inputs\n",
    "input_text = \"\"\n",
    "input_file = ''\n",
    "input_url = ''\n",
    "reformat_url_text = True\n",
    "\n",
    "# optionally save the audio\n",
    "output_file = ''"
   ]
  },
  {
   "cell_type": "code",
   "execution_count": null,
   "metadata": {},
   "outputs": [],
   "source": [
    "if not input_text and not os.path.exists(input_file) and not input_url:\n",
    "\traise SystemExit('Please provide a valid input text, file or url')\n",
    "\n",
    "if input_url:\n",
    "\tinput_text = get_text_from_url(input_url)\n",
    "\tif reformat_url_text:\n",
    "\t\tres = format_tts_text(input_text)\n",
    "\t\tinput_text = res\n",
    "\t\tprint('Reformatted text:')\n",
    "\t\tprint(res)\n",
    "\n",
    "if input_file and os.path.exists(input_file):\n",
    "\twith open(input_file, 'r') as f:\n",
    "\t\tinput_text = f.read()\n",
    "\n",
    "if not input_text:\n",
    "\traise SystemExit('Could not find any input text')\n",
    "\n",
    "chunks = []\n",
    "if len(input_text) > 5000:\n",
    "\tchunks = chunk_text(input_text, 5000)\n",
    "else:\n",
    "\tchunks.append(input_text)\n",
    "has_multiple_chunks = len(chunks) > 1"
   ]
  },
  {
   "cell_type": "code",
   "execution_count": null,
   "metadata": {},
   "outputs": [],
   "source": [
    "for i, chunk in enumerate(chunks):\n",
    "\taudio = elevenlabs.getSpeechB64(chunk, tts_model, tts_voice)\n",
    "\tif output_file:\n",
    "\t\tif has_multiple_chunks:\n",
    "\t\t\tchunk_output_file = f\"{os.path.splitext(output_file)[0]}_part{i+1}{os.path.splitext(output_file)[1]}\"\n",
    "\t\telse:\n",
    "\t\t\tchunk_output_file = output_file\n",
    "\t\tsaveB64Audio(audio, chunk_output_file)\n",
    "\t\tprint(f'Audio saved to {chunk_output_file}')\n",
    "\tdisplayAudio(audio)"
   ]
  }
 ],
 "metadata": {
  "kernelspec": {
   "display_name": ".venv",
   "language": "python",
   "name": "python3"
  },
  "language_info": {
   "codemirror_mode": {
    "name": "ipython",
    "version": 3
   },
   "file_extension": ".py",
   "mimetype": "text/x-python",
   "name": "python",
   "nbconvert_exporter": "python",
   "pygments_lexer": "ipython3",
   "version": "3.10.15"
  }
 },
 "nbformat": 4,
 "nbformat_minor": 2
}
