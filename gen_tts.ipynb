{
 "cells": [
  {
   "cell_type": "markdown",
   "metadata": {},
   "source": [
    "Use this notebook to generate TTS and listen to the result in this notebook.\n",
    "\n",
    "Use `tts_model` to change to a different ElevenLabs model and use `tts_voice` to change to a different voice.\n",
    "\n",
    "You can use an `input_text` to supply a string directly in the notebook, or use a `input_file` to supply a path to a text file (e.g. `input.txt`).\n",
    "\n",
    "You can also optionally an `output_file` to save the generated audio to a file (e.g. `output.mp3`).\n",
    "\n",
    "Press `Run All` and the TTS audio will render at the bottom after a while."
   ]
  },
  {
   "cell_type": "code",
   "execution_count": 1,
   "metadata": {},
   "outputs": [],
   "source": [
    "import os\n",
    "from typing import Literal\n",
    "from src.clients import elevenlabs\n",
    "from src.utils import saveB64Audio, displayAudio, chunk_text, get_text_from_url\n",
    "from src.enums import ElevenLabsTTSModel, ElevenLabsTTSVoice\n",
    "from src.format_tts import format_tts_text\n",
    "from src.tools.tts import make_tts\n",
    "\n",
    "# change the model and/or voice if desired\n",
    "# TODO support openai tts\n",
    "tts_model = ElevenLabsTTSModel.Multilingual_v2.value\n",
    "tts_voice = ElevenLabsTTSVoice.Brian.value # TODO add more voices to enum\n",
    "\n",
    "# choose 1 of the below inputs\n",
    "input_text = \"\"\n",
    "input_file = ''\n",
    "input_url = ''\n",
    "reformat_url_text = True\n",
    "\n",
    "# optionally save the audio\n",
    "output_file = ''"
   ]
  },
  {
   "cell_type": "code",
   "execution_count": 2,
   "metadata": {},
   "outputs": [],
   "source": [
    "if not input_text and not os.path.exists(input_file) and not input_url:\n",
    "\traise SystemExit('Please provide a valid input text, file or url')\n",
    "\n",
    "input_type: Literal[\"text\", \"file\", \"url\"] = 'text'\n",
    "input_src = input_text\n",
    "\n",
    "if input_url:\n",
    "\tinput_src = input_url\n",
    "\tinput_type = 'url'\n",
    "\n",
    "if input_file and os.path.exists(input_file):\n",
    "\tinput_src = input_file\n",
    "\tinput_type = 'file'"
   ]
  },
  {
   "cell_type": "code",
   "execution_count": null,
   "metadata": {},
   "outputs": [],
   "source": [
    "output_path = make_tts(input_src, input_type, output_file, model=tts_model, voice=tts_voice)\n",
    "displayAudio(output_path)"
   ]
  }
 ],
 "metadata": {
  "kernelspec": {
   "display_name": ".venv",
   "language": "python",
   "name": "python3"
  },
  "language_info": {
   "codemirror_mode": {
    "name": "ipython",
    "version": 3
   },
   "file_extension": ".py",
   "mimetype": "text/x-python",
   "name": "python",
   "nbconvert_exporter": "python",
   "pygments_lexer": "ipython3",
   "version": "3.10.15"
  }
 },
 "nbformat": 4,
 "nbformat_minor": 2
}
