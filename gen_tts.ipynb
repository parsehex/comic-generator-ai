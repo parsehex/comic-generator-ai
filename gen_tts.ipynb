{
 "cells": [
  {
   "cell_type": "markdown",
   "metadata": {},
   "source": [
    "Use this notebook to generate TTS and listen to the result in this notebook.\n",
    "\n",
    "Use `tts_model` to change to a different ElevenLabs model and use `tts_voice` to change to a different voice.\n",
    "\n",
    "You can use an `input_text` to supply a string directly in the notebook, or use a `input_file` to supply a path to a text file (e.g. `input.txt`).\n",
    "\n",
    "You can also optionally an `output_file` to save the generated audio to a file (e.g. `output.mp3`).\n",
    "\n",
    "Press `Run All` and the TTS audio will render at the bottom after a while."
   ]
  },
  {
   "cell_type": "code",
   "execution_count": 3,
   "metadata": {},
   "outputs": [],
   "source": [
    "import os\n",
    "from src.ai import elevenlabs\n",
    "from src.utils import saveB64Audio, displayAudio\n",
    "from src.enums import ElevenLabsTTSModel, ElevenLabsTTSVoice\n",
    "\n",
    "tts_model = ElevenLabsTTSModel.Multilingual_v2.value\n",
    "tts_voice = ElevenLabsTTSVoice.Antoni.value\n",
    "\n",
    "# choose 1 of the below\n",
    "input_text = \"\"\n",
    "input_file = ''\n",
    "\n",
    "# optionally save the audio\n",
    "output_file = ''"
   ]
  },
  {
   "cell_type": "code",
   "execution_count": null,
   "metadata": {},
   "outputs": [],
   "source": [
    "if not input_text and not os.path.exists(input_file):\n",
    "\t\traise SystemExit('Please provide a valid input text or file')\n",
    "\n",
    "if input_file:\n",
    "\twith open(input_file, 'r') as f:\n",
    "\t\t\tinput_text = f.read()\n",
    "\n",
    "if not input_text:\n",
    "\t\traise SystemExit('Could not find any input text')\n",
    "\n",
    "audio = elevenlabs.getSpeechB64(input_text, tts_model, tts_voice)\n",
    "if output_file:\n",
    "\t\tsaveB64Audio(audio, output_file)\n",
    "\t\tprint(f'Audio saved to {output_file}')\n",
    "\n",
    "displayAudio(audio)"
   ]
  }
 ],
 "metadata": {
  "kernelspec": {
   "display_name": ".venv",
   "language": "python",
   "name": "python3"
  },
  "language_info": {
   "codemirror_mode": {
    "name": "ipython",
    "version": 3
   },
   "file_extension": ".py",
   "mimetype": "text/x-python",
   "name": "python",
   "nbconvert_exporter": "python",
   "pygments_lexer": "ipython3",
   "version": "3.10.15"
  }
 },
 "nbformat": 4,
 "nbformat_minor": 2
}
