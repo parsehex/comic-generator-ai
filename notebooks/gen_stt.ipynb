{
 "cells": [
  {
   "cell_type": "code",
   "execution_count": null,
   "metadata": {},
   "outputs": [],
   "source": [
    "import os, sys\n",
    "\n",
    "sys.path.append(os.path.abspath('..'))\n",
    "\n",
    "from src.clients import lemonfox, whisper_local\n",
    "from src.tools.stt import create_transcript\n",
    "\n",
    "input_file = \"output.mp3\"\n",
    "\n",
    "# result = lemonfox.getTranscript(input_file)\n",
    "# result = whisper_local.getTranscript(input_file)\n",
    "\n",
    "# import json\n",
    "# print(json.dumps(result, indent = 2, ensure_ascii = False))\n",
    "\n",
    "result = create_transcript(input_file)\n",
    "print(result)"
   ]
  }
 ],
 "metadata": {
  "kernelspec": {
   "display_name": ".venv",
   "language": "python",
   "name": "python3"
  },
  "language_info": {
   "codemirror_mode": {
    "name": "ipython",
    "version": 3
   },
   "file_extension": ".py",
   "mimetype": "text/x-python",
   "name": "python",
   "nbconvert_exporter": "python",
   "pygments_lexer": "ipython3",
   "version": "3.10.15"
  }
 },
 "nbformat": 4,
 "nbformat_minor": 2
}
