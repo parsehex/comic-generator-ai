{
 "cells": [
  {
   "cell_type": "code",
   "execution_count": null,
   "metadata": {},
   "outputs": [],
   "source": [
    "import os, sys\n",
    "\n",
    "sys.path.append(os.path.abspath('..'))\n",
    "\n",
    "from src.clients import lemonfox, whisper_local\n",
    "from src.tools.stt import create_transcript\n",
    "\n",
    "input_file = \"example.com.mp3\"\n",
    "\n",
    "# result = lemonfox.getTranscript(input_file)\n",
    "# result = whisper_local.getTranscript(input_file)\n",
    "\n",
    "# import json\n",
    "# print(json.dumps(result, indent = 2, ensure_ascii = False))\n",
    "\n",
    "result_path = create_transcript(input_file, 'vjson')\n",
    "with open(result_path, 'r') as f:\n",
    "\t\tresult = f.read()\n",
    "print(result)"
   ]
  },
  {
   "cell_type": "code",
   "execution_count": null,
   "metadata": {},
   "outputs": [],
   "source": [
    "from faster_whisper import WhisperModel\n",
    "\n",
    "model_size = \"large-v3\"\n",
    "\n",
    "# Run on GPU with FP16\n",
    "model = WhisperModel(model_size, device=\"auto\", compute_type=\"int8\")\n",
    "# audio = whisperx.load_audio('example.com.mp3')\n",
    "# result = model.transcribe(audio, batch_size=8)\n",
    "# result\n",
    "segments, info = model.transcribe(\"example.com.mp3\", beam_size=5)\n",
    "\n",
    "print(\"Detected language '%s' with probability %f\" % (info.language, info.language_probability))\n",
    "\n",
    "for segment in segments:\n",
    "    print(\"[%.2fs -> %.2fs] %s\" % (segment.start, segment.end, segment.text))"
   ]
  }
 ],
 "metadata": {
  "kernelspec": {
   "display_name": ".venv",
   "language": "python",
   "name": "python3"
  },
  "language_info": {
   "codemirror_mode": {
    "name": "ipython",
    "version": 3
   },
   "file_extension": ".py",
   "mimetype": "text/x-python",
   "name": "python",
   "nbconvert_exporter": "python",
   "pygments_lexer": "ipython3",
   "version": "3.10.15"
  }
 },
 "nbformat": 4,
 "nbformat_minor": 2
}
