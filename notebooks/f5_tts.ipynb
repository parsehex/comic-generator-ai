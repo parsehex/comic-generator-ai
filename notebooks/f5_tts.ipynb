{
 "cells": [
  {
   "cell_type": "markdown",
   "metadata": {},
   "source": [
    "Use\n",
    "```\n",
    "python -m f5_tts_mlx.generate --text \"The quick brown fox jumped over the lazy dog.\"\n",
    "```\n",
    "to generate from CLI."
   ]
  },
  {
   "cell_type": "code",
   "execution_count": null,
   "metadata": {},
   "outputs": [],
   "source": [
    "import os, sys\n",
    "\n",
    "sys.path.append(os.path.abspath('..'))\n",
    "\n",
    "from f5_tts_mlx.generate import generate\n",
    "from src.utils import displayAudio\n",
    "\n",
    "text = 'This is some test text. It sounds pretty good, right?'\n",
    "out_path = 'output.wav'\n",
    "\n",
    "generate(text, output_path=out_path)\n",
    "displayAudio(path=out_path)"
   ]
  }
 ],
 "metadata": {
  "kernelspec": {
   "display_name": ".venv",
   "language": "python",
   "name": "python3"
  },
  "language_info": {
   "codemirror_mode": {
    "name": "ipython",
    "version": 3
   },
   "file_extension": ".py",
   "mimetype": "text/x-python",
   "name": "python",
   "nbconvert_exporter": "python",
   "pygments_lexer": "ipython3",
   "version": "3.10.15"
  }
 },
 "nbformat": 4,
 "nbformat_minor": 2
}
