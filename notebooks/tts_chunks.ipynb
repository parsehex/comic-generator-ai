{
 "cells": [
  {
   "cell_type": "markdown",
   "metadata": {},
   "source": [
    "This notebook takes a script string or file and generates TTS audio from it. The script is chunked by section, using markdown headers as delimiters. Each chunk of text is generated into audio using ElevenLabs.\n",
    "\n",
    "Section titles are saved as separate chunks then the content to allow for more natural pauses between sections.\n"
   ]
  },
  {
   "cell_type": "code",
   "execution_count": null,
   "metadata": {},
   "outputs": [],
   "source": [
    "import os, sys\n",
    "\n",
    "sys.path.append(os.path.abspath('..'))\n",
    "\n",
    "import json\n",
    "from src.clients import elevenlabs\n",
    "from src.utils import saveB64Audio, chunkTextForTTS, create_project_folder\n",
    "from src.enums import ElevenLabsTTSModel\n",
    "\n",
    "# if not specified, will use default model from config/config.yaml\n",
    "tts_model = ElevenLabsTTSModel.Turbo_v25.value\n",
    "\n",
    "script = \"\"\"\"\"\"\n",
    "script_location = \"input-test.txt\"\n",
    "specific_chunk = -1\n",
    "\n",
    "\n",
    "def create_audio(script,\n",
    "                 audio_name='audio.mp3',\n",
    "                 project_folder=None,\n",
    "                 model=None):\n",
    "\t# TODO use request stitching to improve gaps\n",
    "\t# see https://elevenlabs.io/docs/api-reference/how-to-use-request-stitching\n",
    "\tif project_folder is None:\n",
    "\t\tproject_folder = create_project_folder()\n",
    "\n",
    "\taudio = elevenlabs.getSpeechB64(script, model)\n",
    "\taudio_path = os.path.join(project_folder, audio_name)\n",
    "\tsaveB64Audio(audio, audio_path)\n",
    "\n",
    "\tprint(f\"Audio {audio_name} created successfully in {project_folder}\")\n",
    "\treturn project_folder, audio_path\n",
    "\n",
    "\n",
    "input_exists = os.path.exists(script_location)\n",
    "if not script and not input_exists:\n",
    "\traise SystemExit(\"Please provide a script or a script location\")\n",
    "\n",
    "if not script and script_location:\n",
    "\twith open(script_location, 'r') as f:\n",
    "\t\tscript = f.read()\n",
    "\n",
    "chunks = chunkTextForTTS(script)\n",
    "project_folder = create_project_folder()\n",
    "\n",
    "if specific_chunk >= 0:\n",
    "\tchunk = chunks[specific_chunk]\n",
    "\taudio_name = chunk['audio']\n",
    "\tcreate_audio(chunks[specific_chunk]['content'], audio_name, project_folder)\n",
    "else:\n",
    "\tskipped = 0\n",
    "\tfor i, chunk in enumerate(chunks):\n",
    "\t\tchunk_type = chunk['type']\n",
    "\t\taudio_name = f'{i}_{chunk_type}.mp3'\n",
    "\t\tchunk['audio'] = audio_name\n",
    "\t\taudio_exists = os.path.exists(os.path.join(project_folder, audio_name))\n",
    "\n",
    "\t\tif audio_exists:\n",
    "\t\t\tskipped += 1\n",
    "\t\t\tcontinue\n",
    "\n",
    "\t\tcontent = chunk['content']\n",
    "\t\tcreate_audio(content, audio_name, project_folder, tts_model)\n",
    "\n",
    "\tif skipped > 0:\n",
    "\t\tprint(f\"Skipped generating {skipped} audio files\")\n",
    "\n",
    "chunks_name = os.path.join(project_folder, 'tts-chunks.json')\n",
    "if not os.path.exists(chunks_name):\n",
    "\twith open(chunks_name, 'w') as f:\n",
    "\t\tf.write(json.dumps(chunks))\n",
    "else:\n",
    "\t# compare with existing chunks\n",
    "\twith open(chunks_name, 'r') as f:\n",
    "\t\texisting_chunks = eval(f.read())\n",
    "\t\tif existing_chunks != chunks:\n",
    "\t\t\twith open(chunks_name, 'w') as f:\n",
    "\t\t\t\tf.write(json.dumps(chunks))"
   ]
  },
  {
   "cell_type": "code",
   "execution_count": 2,
   "metadata": {},
   "outputs": [],
   "source": [
    "# elevenlabs.getModels()"
   ]
  },
  {
   "cell_type": "code",
   "execution_count": null,
   "metadata": {},
   "outputs": [],
   "source": [
    "import os\n",
    "import json\n",
    "import sys\n",
    "from PyQt5.QtWidgets import QApplication\n",
    "from src.gui.windows.chunk_manager import ChunkManager\n",
    "\n",
    "app = QApplication(sys.argv)\n",
    "ex = ChunkManager(chunks, project_folder)\n",
    "ex.show()\n",
    "app.exec_()\n",
    "%gui qt"
   ]
  }
 ],
 "metadata": {
  "kernelspec": {
   "display_name": ".venv",
   "language": "python",
   "name": "python3"
  },
  "language_info": {
   "codemirror_mode": {
    "name": "ipython",
    "version": 3
   },
   "file_extension": ".py",
   "mimetype": "text/x-python",
   "name": "python",
   "nbconvert_exporter": "python",
   "pygments_lexer": "ipython3",
   "version": "3.10.15"
  }
 },
 "nbformat": 4,
 "nbformat_minor": 2
}
