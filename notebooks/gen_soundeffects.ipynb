{
 "cells": [
  {
   "cell_type": "code",
   "execution_count": null,
   "metadata": {},
   "outputs": [],
   "source": [
    "import os, sys\n",
    "\n",
    "sys.path.append(os.path.abspath('..'))\n",
    "\n",
    "from src.clients import elevenlabs\n",
    "from src.utils import displayAudio\n",
    "prompt = 'sound of roaring typewriter'\n",
    "audio = elevenlabs.getSoundEffectB64(prompt, duration_seconds=5, prompt_influence=1)\n",
    "displayAudio(audio)"
   ]
  },
  {
   "cell_type": "code",
   "execution_count": null,
   "metadata": {},
   "outputs": [],
   "source": [
    "# save audio\n",
    "from src.utils import saveB64Audio\n",
    "audio_name = prompt.replace(' ', '_') + '.mp3'\n",
    "saveB64Audio(audio, f'output/soundeffects/{audio_name}')"
   ]
  }
 ],
 "metadata": {
  "kernelspec": {
   "display_name": ".venv",
   "language": "python",
   "name": "python3"
  },
  "language_info": {
   "codemirror_mode": {
    "name": "ipython",
    "version": 3
   },
   "file_extension": ".py",
   "mimetype": "text/x-python",
   "name": "python",
   "nbconvert_exporter": "python",
   "pygments_lexer": "ipython3",
   "version": "3.10.15"
  }
 },
 "nbformat": 4,
 "nbformat_minor": 2
}
