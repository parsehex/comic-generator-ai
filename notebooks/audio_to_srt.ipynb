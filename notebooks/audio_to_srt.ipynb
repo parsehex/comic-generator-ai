{
 "cells": [
  {
   "cell_type": "code",
   "execution_count": null,
   "metadata": {},
   "outputs": [],
   "source": [
    "import os, sys\n",
    "\n",
    "sys.path.append(os.path.abspath('..'))\n",
    "\n",
    "from src.clients import lemonfox\n",
    "from src.utils import create_project_folder\n",
    "\n",
    "\n",
    "def create_transcript(audio_path: str):\n",
    "\tif not os.path.exists(audio_path):\n",
    "\t\traise FileNotFoundError('File not found:', audio_path)\n",
    "\n",
    "\tproject_folder = create_project_folder()\n",
    "\n",
    "\t# improve transcription by providing a prompt\n",
    "\twhisper_prompt = ''\n",
    "\ttranscript_srt = lemonfox.getTranscript(audio_path,\n",
    "\t                                        outformat='srt',\n",
    "\t                                        prompt=whisper_prompt)\n",
    "\n",
    "\tif transcript_srt.startswith('\"'):\n",
    "\t\ttranscript_srt = transcript_srt[1:]\n",
    "\tif transcript_srt.endswith('\"'):\n",
    "\t\ttranscript_srt = transcript_srt[:-1]\n",
    "\ttranscript_srt = transcript_srt.replace('\\\\n', '\\n')\n",
    "\ttranscript_srt = transcript_srt.strip()\n",
    "\n",
    "\ttranscript_srt_path = os.path.join(project_folder, 'transcript.srt')\n",
    "\twith open(transcript_srt_path, 'w') as f:\n",
    "\t\tf.write(transcript_srt)\n",
    "\n",
    "\tprint('Transcript saved to', transcript_srt_path)\n",
    "\n",
    "\n",
    "# TODO allow input to be video and extract audio from it\n",
    "input_path = ''\n",
    "create_transcript(input_path)"
   ]
  }
 ],
 "metadata": {
  "kernelspec": {
   "display_name": ".venv",
   "language": "python",
   "name": "python3"
  },
  "language_info": {
   "codemirror_mode": {
    "name": "ipython",
    "version": 3
   },
   "file_extension": ".py",
   "mimetype": "text/x-python",
   "name": "python",
   "nbconvert_exporter": "python",
   "pygments_lexer": "ipython3",
   "version": "3.10.15"
  }
 },
 "nbformat": 4,
 "nbformat_minor": 2
}
