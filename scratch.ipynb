{
 "cells": [
  {
   "cell_type": "code",
   "execution_count": 1,
   "metadata": {},
   "outputs": [],
   "source": [
    "from src.ai import generateImage, chatCompletion\n",
    "from src.utils import displayB64Image, saveB64Image"
   ]
  },
  {
   "cell_type": "code",
   "execution_count": null,
   "metadata": {},
   "outputs": [],
   "source": [
    "# scratch chat:\n",
    "chatCompletion(\"\"\"The following are a list of instructions to follow when writing a story. Please combine these into a cohesive paragraph or so to instruct an AI to write a story. To be clear, you are to respond with a generic set of instructions rather than about anything specific -- the input is not visible to you at this time. The instructions should begin with \"Write a story about the given input\" and follow from there.\n",
    "- Write a short, action-packed story with 5-7 distinct scenes.\n",
    "- Focus on vivid, visual descriptions of characters and settings.\n",
    "- Include a mix of dialogue and narration.\n",
    "- Emphasize character actions and facial expressions.\n",
    "- Describe key moments in detail, as if painting a picture with words.\n",
    "- Use a variety of locations and scenery changes.\n",
    "- Incorporate clear transitions between scenes.\n",
    "- Balance between character close-ups and wider environmental shots in your descriptions.\n",
    "- Include some moments of high visual impact or drama.\n",
    "- Wrap up with a clear, visually striking conclusion.\"\"\")"
   ]
  },
  {
   "cell_type": "code",
   "execution_count": null,
   "metadata": {},
   "outputs": [],
   "source": [
    "b64 = generateImage('Birthday cake covered in dirt', 4)\n",
    "displayB64Image(b64)"
   ]
  },
  {
   "cell_type": "code",
   "execution_count": null,
   "metadata": {},
   "outputs": [],
   "source": [
    "txt = \"\"\"\n",
    "\"\"\".strip()\n",
    "print('Characters:', len(txt))"
   ]
  },
  {
   "cell_type": "code",
   "execution_count": null,
   "metadata": {},
   "outputs": [],
   "source": [
    "# from src.ai import elevenlabs\n",
    "\n",
    "# client = elevenlabs.client\n",
    "# client.history.delete()"
   ]
  }
 ],
 "metadata": {
  "kernelspec": {
   "display_name": ".venv",
   "language": "python",
   "name": "python3"
  },
  "language_info": {
   "codemirror_mode": {
    "name": "ipython",
    "version": 3
   },
   "file_extension": ".py",
   "mimetype": "text/x-python",
   "name": "python",
   "nbconvert_exporter": "python",
   "pygments_lexer": "ipython3",
   "version": "3.10.15"
  }
 },
 "nbformat": 4,
 "nbformat_minor": 2
}
