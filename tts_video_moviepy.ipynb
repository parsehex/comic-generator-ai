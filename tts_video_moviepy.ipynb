{
 "cells": [
  {
   "cell_type": "code",
   "execution_count": 1,
   "metadata": {},
   "outputs": [
    {
     "name": "stdout",
     "output_type": "stream",
     "text": [
      "Moviepy - Building video project_20241014_014526/output.webm.\n",
      "MoviePy - Writing audio in outputTEMP_MPY_wvf_snd.ogg\n"
     ]
    },
    {
     "name": "stderr",
     "output_type": "stream",
     "text": [
      "                                                                    \r"
     ]
    },
    {
     "name": "stdout",
     "output_type": "stream",
     "text": [
      "MoviePy - Done.\n",
      "Moviepy - Writing video project_20241014_014526/output.webm\n",
      "\n"
     ]
    },
    {
     "name": "stderr",
     "output_type": "stream",
     "text": [
      "                                                              \r"
     ]
    },
    {
     "name": "stdout",
     "output_type": "stream",
     "text": [
      "Moviepy - Done !\n",
      "Moviepy - video ready project_20241014_014526/output.webm\n",
      "Video created successfully in project_20241014_014526\n"
     ]
    },
    {
     "data": {
      "text/plain": [
       "('project_20241014_014526', 'project_20241014_014526/output.webm')"
      ]
     },
     "execution_count": 1,
     "metadata": {},
     "output_type": "execute_result"
    }
   ],
   "source": [
    "import json\n",
    "import os\n",
    "from PIL import Image, ImageDraw, ImageFont\n",
    "from moviepy.editor import *\n",
    "from moviepy.video.tools.subtitles import SubtitlesClip\n",
    "from src.ai import elevenlabs, lemonfox\n",
    "from src.utils import saveB64Audio, create_project_folder\n",
    "import sys\n",
    "\n",
    "sys.path.append('/Users/user/Code/GitHub/comic-generator-ai/moviepy')\n",
    "\n",
    "def create_subtitle_clip(txt, font, fontsize, color):\n",
    "    clip = TextClip(txt, fontsize=fontsize, font=font, color=color)\n",
    "    clip = clip.on_color(size=(clip.w + 10, clip.h + 10), color=(0,0,0,0), pos=(5, 5))\n",
    "    return clip.set_pos(('center', 'bottom'))\n",
    "\n",
    "def create_video(script, width=1280, height=720, fps=30, font_size=40, font_color='white'):\n",
    "    project_folder = create_project_folder()\n",
    "\n",
    "    # Save audio\n",
    "    audio = elevenlabs.getSpeechB64(script)\n",
    "    audio_path = os.path.join(project_folder, 'audio.mp3')\n",
    "    saveB64Audio(audio, audio_path)\n",
    "\n",
    "    # Get transcript\n",
    "    transcript = lemonfox.getTranscript(audio_path)\n",
    "    transcript_json = transcript.model_dump_json()\n",
    "    transcript_path = os.path.join(project_folder, 'transcript.json')\n",
    "    with open(transcript_path, 'w') as f:\n",
    "        f.write(transcript_json)\n",
    "\n",
    "    # Load the transcript JSON\n",
    "    with open(transcript_path, 'r') as f:\n",
    "        transcript = json.load(f)\n",
    "\n",
    "    # Create subtitle clips\n",
    "    subtitle_clips = []\n",
    "    for segment in transcript['segments']:\n",
    "        start, end = segment['start'], segment['end']\n",
    "        text = segment['text']\n",
    "        subtitle_clip = create_subtitle_clip(text, 'Arial', font_size, font_color)\n",
    "        subtitle_clip = subtitle_clip.set_start(start).set_end(end)\n",
    "        subtitle_clips.append(subtitle_clip)\n",
    "\n",
    "    # Create a CompositeVideoClip with subtitles\n",
    "    video = CompositeVideoClip([ColorClip(size=(width, height), color=(0,0,0,0)).set_duration(transcript['segments'][-1]['end'])] + subtitle_clips)\n",
    "\n",
    "    # Load audio\n",
    "    audio = AudioFileClip(audio_path)\n",
    "\n",
    "    # Set video audio\n",
    "    video = video.set_audio(audio)\n",
    "\n",
    "    # Write the result to a file\n",
    "    output_path = os.path.join(project_folder, 'output.webm')\n",
    "    video.write_videofile(output_path, fps=fps, codec='libvpx-vp9', audio_codec='libvorbis')\n",
    "\n",
    "    print(f\"Video created successfully in {project_folder}\")\n",
    "    return project_folder, output_path\n",
    "\n",
    "# Example usage\n",
    "script = \"\"\"\n",
    "This should sound better -- using the nicer voice model here. It costs more, so I use the other model for the speed and lower price.\n",
    "\n",
    "We're using ElevenLabs' cheaper model for the TTS, and LemonFox's Whisper API to get the transcript.\n",
    "\n",
    "Kdenlive was used to bring the two together to create a video. Now there just needs to be some visuals for a full video.\n",
    "\"\"\"\n",
    "\n",
    "create_video(\n",
    "    script,\n",
    "    width=1280,\n",
    "    height=720,\n",
    "    fps=30,\n",
    "    font_size=60,  # Increased font size\n",
    "    font_color='white'  # White color\n",
    ")"
   ]
  }
 ],
 "metadata": {
  "kernelspec": {
   "display_name": "moviepy_env3",
   "language": "python",
   "name": "python3"
  },
  "language_info": {
   "codemirror_mode": {
    "name": "ipython",
    "version": 3
   },
   "file_extension": ".py",
   "mimetype": "text/x-python",
   "name": "python",
   "nbconvert_exporter": "python",
   "pygments_lexer": "ipython3",
   "version": "3.10.15"
  }
 },
 "nbformat": 4,
 "nbformat_minor": 2
}
