{
 "cells": [
  {
   "cell_type": "code",
   "execution_count": 7,
   "metadata": {},
   "outputs": [],
   "source": [
    "from src.ai import together\n",
    "from src.utils import displayB64Image, saveB64Image\n",
    "from src.enums import TogetherAIFluxModel"
   ]
  },
  {
   "cell_type": "code",
   "execution_count": null,
   "metadata": {},
   "outputs": [],
   "source": [
    "img_prompt = \"\"\n",
    "\n",
    "steps = 20\n",
    "model = TogetherAIFluxModel.Flux1_1Pro.value\n",
    "\n",
    "if not img_prompt:\n",
    "\traise SystemExit(\"No image prompt provided\")\n",
    "\n",
    "b64 = together.generateImage(img_prompt, steps, model=model)\n",
    "displayB64Image(b64)"
   ]
  }
 ],
 "metadata": {
  "kernelspec": {
   "display_name": "moviepy_env3",
   "language": "python",
   "name": "python3"
  },
  "language_info": {
   "codemirror_mode": {
    "name": "ipython",
    "version": 3
   },
   "file_extension": ".py",
   "mimetype": "text/x-python",
   "name": "python",
   "nbconvert_exporter": "python",
   "pygments_lexer": "ipython3",
   "version": "3.10.15"
  }
 },
 "nbformat": 4,
 "nbformat_minor": 2
}
