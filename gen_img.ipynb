{
 "cells": [
  {
   "cell_type": "code",
   "execution_count": null,
   "metadata": {},
   "outputs": [],
   "source": [
    "from src.clients import together\n",
    "from src.utils import displayB64Image, saveB64Image\n",
    "from src.enums import TogetherAIFluxModel\n",
    "from datetime import datetime"
   ]
  },
  {
   "cell_type": "code",
   "execution_count": null,
   "metadata": {},
   "outputs": [],
   "source": [
    "img_prompt = \"\"\n",
    "\n",
    "steps = 20\n",
    "model = TogetherAIFluxModel.Flux1_1Pro.value\n",
    "\n",
    "if not img_prompt:\n",
    "\traise SystemExit(\"No image prompt provided\")\n",
    "\n",
    "b64 = together.generateImage(img_prompt, steps, model=model, width=768,height=768)\n",
    "displayB64Image(b64)\n",
    "# saveB64Image(b64, f'output/img/{datetime.now().strftime(\"%Y%m%d\")}.png')"
   ]
  }
 ],
 "metadata": {
  "kernelspec": {
   "display_name": ".venv",
   "language": "python",
   "name": "python3"
  },
  "language_info": {
   "codemirror_mode": {
    "name": "ipython",
    "version": 3
   },
   "file_extension": ".py",
   "mimetype": "text/x-python",
   "name": "python",
   "nbconvert_exporter": "python",
   "pygments_lexer": "ipython3",
   "version": "3.10.15"
  }
 },
 "nbformat": 4,
 "nbformat_minor": 2
}
