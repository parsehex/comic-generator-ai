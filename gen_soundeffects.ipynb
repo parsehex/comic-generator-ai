{
 "cells": [
  {
   "cell_type": "code",
   "execution_count": null,
   "metadata": {},
   "outputs": [],
   "source": [
    "from src.ai import elevenlabs\n",
    "from src.utils import displayAudio\n",
    "prompt = 'loud fart'\n",
    "audio = elevenlabs.getSoundEffectB64(prompt, duration_seconds=5, prompt_influence=0.5)\n",
    "displayAudio(audio)"
   ]
  },
  {
   "cell_type": "code",
   "execution_count": 22,
   "metadata": {},
   "outputs": [],
   "source": [
    "from src.utils import saveB64Audio\n",
    "audio_name = prompt.replace(' ', '_') + '.mp3'\n",
    "saveB64Audio(audio, audio_name)"
   ]
  }
 ],
 "metadata": {
  "kernelspec": {
   "display_name": ".venv",
   "language": "python",
   "name": "python3"
  },
  "language_info": {
   "codemirror_mode": {
    "name": "ipython",
    "version": 3
   },
   "file_extension": ".py",
   "mimetype": "text/x-python",
   "name": "python",
   "nbconvert_exporter": "python",
   "pygments_lexer": "ipython3",
   "version": "3.10.15"
  }
 },
 "nbformat": 4,
 "nbformat_minor": 2
}
