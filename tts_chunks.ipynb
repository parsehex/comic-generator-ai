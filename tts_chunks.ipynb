{
 "cells": [
  {
   "cell_type": "markdown",
   "metadata": {},
   "source": [
    "This notebook takes a script string or file and generates TTS audio from it. The script is chunked by section, using markdown headers as delimiters. Each chunk of text is generated into audio using ElevenLabs.\n",
    "\n",
    "Section titles are saved as separate chunks then the content to allow for more natural pauses between sections."
   ]
  },
  {
   "cell_type": "code",
   "execution_count": null,
   "metadata": {},
   "outputs": [],
   "source": [
    "import os\n",
    "from src.ai import elevenlabs\n",
    "from src.utils import saveB64Audio, chunkTextForTTS, create_project_folder\n",
    "from src.enums import ElevenLabsTTSModel\n",
    "\n",
    "# if not specified, will use default model from config/config.yaml\n",
    "tts_model = ElevenLabsTTSModel.Turbo_v25.value\n",
    "\n",
    "script = \"\"\"\"\"\"\n",
    "script_location = \"input.txt\"\n",
    "specific_chunk = -1\n",
    "\n",
    "def create_audio(script, audio_name='audio.mp3', project_folder=None, model = None):\n",
    "    if project_folder is None:\n",
    "        project_folder = create_project_folder()\n",
    "\n",
    "    audio = elevenlabs.getSpeechB64(script, model)\n",
    "    audio_path = os.path.join(project_folder, audio_name)\n",
    "    saveB64Audio(audio, audio_path)\n",
    "\n",
    "    print(f\"Audio {audio_name} created successfully in {project_folder}\")\n",
    "    return project_folder, audio_path\n",
    "\n",
    "input_exists = os.path.exists(script_location)\n",
    "if not script and not input_exists:\n",
    "    raise SystemExit(\"Please provide a script or a script location\")\n",
    "\n",
    "if not script and script_location:\n",
    "    with open(script_location, 'r') as f:\n",
    "        script = f.read()\n",
    "\n",
    "chunks = chunkTextForTTS(script)\n",
    "project_folder = 'project_20241014_141200'\n",
    "\n",
    "# print chunks\n",
    "# for i, chunk in enumerate(chunks):\n",
    "#     print(f\"{i}: {chunk['type']} - {chunk['content']}\")\n",
    "# raise SystemExit()\n",
    "\n",
    "if specific_chunk >= 0:\n",
    "    create_audio(chunks[specific_chunk]['content'], f'{specific_chunk}_audio.mp3', project_folder)\n",
    "else:\n",
    "    skipped = 0\n",
    "    for i, chunk in enumerate(chunks):\n",
    "        chunk_type = chunk['type']\n",
    "        audio_name = f'{i}_{chunk_type}.mp3'\n",
    "        audio_exists = os.path.exists(os.path.join(project_folder, audio_name))\n",
    "\n",
    "        if audio_exists:\n",
    "            skipped += 1\n",
    "            continue\n",
    "\n",
    "        content = chunk['content']\n",
    "        create_audio(content, audio_name, project_folder, tts_model)\n",
    "\n",
    "    print(f\"Skipped generating {skipped} audio files\")"
   ]
  },
  {
   "cell_type": "code",
   "execution_count": 8,
   "metadata": {},
   "outputs": [],
   "source": [
    "# elevenlabs.getModels()"
   ]
  }
 ],
 "metadata": {
  "kernelspec": {
   "display_name": "Python 3",
   "language": "python",
   "name": "python3"
  },
  "language_info": {
   "codemirror_mode": {
    "name": "ipython",
    "version": 3
   },
   "file_extension": ".py",
   "mimetype": "text/x-python",
   "name": "python",
   "nbconvert_exporter": "python",
   "pygments_lexer": "ipython3",
   "version": "3.10.15"
  }
 },
 "nbformat": 4,
 "nbformat_minor": 2
}
